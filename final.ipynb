{
 "cells": [
  {
   "cell_type": "code",
   "execution_count": 1,
   "id": "selective-liability",
   "metadata": {},
   "outputs": [],
   "source": [
    "import pandas as pd\n"
   ]
  },
  {
   "cell_type": "code",
   "execution_count": 2,
   "id": "equipped-multimedia",
   "metadata": {},
   "outputs": [],
   "source": [
    "import pandas as pd\n",
    "\n",
    "# Read the files into two dataframes.\n",
    "df1 = pd.read_excel('Pizza_Case.xlsx')\n",
    "df2 = pd.read_excel('Pizza_Cust.xlsx')\n",
    "\n",
    "# Merge the two dataframes, using _ID column as key\n",
    "df3 = pd.merge(df1, df2, on = 'Customer_ID')\n",
    "#df3.set_index('_CASE_KEY', inplace = True)\n",
    "\n",
    "# Write it to a new CSV file\n",
    "df3.to_csv('1.xlsx')"
   ]
  },
  {
   "cell_type": "code",
   "execution_count": 3,
   "id": "planned-productivity",
   "metadata": {},
   "outputs": [],
   "source": [
    "df3 = pd.read_csv('1.xlsx')"
   ]
  },
  {
   "cell_type": "code",
   "execution_count": 4,
   "id": "behind-compiler",
   "metadata": {},
   "outputs": [
    {
     "name": "stdout",
     "output_type": "stream",
     "text": [
      "<class 'pandas.core.frame.DataFrame'>\n",
      "RangeIndex: 1998 entries, 0 to 1997\n",
      "Data columns (total 17 columns):\n",
      " #   Column                 Non-Null Count  Dtype \n",
      "---  ------                 --------------  ----- \n",
      " 0   Unnamed: 0             1998 non-null   int64 \n",
      " 1   _CASE_KEY              1998 non-null   int64 \n",
      " 2   Variant                1998 non-null   int64 \n",
      " 3   Customer_ID            1998 non-null   int64 \n",
      " 4   Revenue                1998 non-null   int64 \n",
      " 5   Costs                  1998 non-null   int64 \n",
      " 6   Pizza Type             1998 non-null   object\n",
      " 7   Pizza Size             1998 non-null   object\n",
      " 8   Customer Satisfaction  1998 non-null   int64 \n",
      " 9   Cost Factor            1998 non-null   object\n",
      " 10  Weekday                1998 non-null   object\n",
      " 11  Daytime                1998 non-null   int64 \n",
      " 12  Distribution Channel   1998 non-null   object\n",
      " 13  Customer Location      1998 non-null   object\n",
      " 14  Customer Type          1998 non-null   object\n",
      " 15  Customer_Location      1998 non-null   object\n",
      " 16  Customer_Type          1998 non-null   object\n",
      "dtypes: int64(8), object(9)\n",
      "memory usage: 265.5+ KB\n"
     ]
    }
   ],
   "source": [
    "df3.info()"
   ]
  },
  {
   "cell_type": "code",
   "execution_count": 5,
   "id": "above-neutral",
   "metadata": {},
   "outputs": [],
   "source": [
    "df4 = pd.read_excel('Pizza_Event.xlsx')"
   ]
  },
  {
   "cell_type": "code",
   "execution_count": 6,
   "id": "cheap-bankruptcy",
   "metadata": {},
   "outputs": [],
   "source": [
    "df5 = pd.merge(df3, df4, on = '_CASE_KEY')\n",
    "#df5.set_index('_CASE_KEY', inplace = True)\n",
    "\n",
    "# Write it to a new CSV file\n",
    "df5.to_csv('final.csv')"
   ]
  },
  {
   "cell_type": "code",
   "execution_count": 7,
   "id": "forbidden-newton",
   "metadata": {},
   "outputs": [
    {
     "name": "stdout",
     "output_type": "stream",
     "text": [
      "<class 'pandas.core.frame.DataFrame'>\n",
      "Int64Index: 15809 entries, 0 to 15808\n",
      "Data columns (total 21 columns):\n",
      " #   Column                 Non-Null Count  Dtype         \n",
      "---  ------                 --------------  -----         \n",
      " 0   Unnamed: 0             15809 non-null  int64         \n",
      " 1   _CASE_KEY              15809 non-null  int64         \n",
      " 2   Variant                15809 non-null  int64         \n",
      " 3   Customer_ID            15809 non-null  int64         \n",
      " 4   Revenue                15809 non-null  int64         \n",
      " 5   Costs                  15809 non-null  int64         \n",
      " 6   Pizza Type             15809 non-null  object        \n",
      " 7   Pizza Size             15809 non-null  object        \n",
      " 8   Customer Satisfaction  15809 non-null  int64         \n",
      " 9   Cost Factor            15809 non-null  object        \n",
      " 10  Weekday                15809 non-null  object        \n",
      " 11  Daytime                15809 non-null  int64         \n",
      " 12  Distribution Channel   15809 non-null  object        \n",
      " 13  Customer Location      15809 non-null  object        \n",
      " 14  Customer Type          15809 non-null  object        \n",
      " 15  Customer_Location      15809 non-null  object        \n",
      " 16  Customer_Type          15809 non-null  object        \n",
      " 17  SORTING                15809 non-null  int64         \n",
      " 18  EVENTTIME              15809 non-null  datetime64[ns]\n",
      " 19  ACTIVITY_EN            15809 non-null  object        \n",
      " 20  Automation             15809 non-null  object        \n",
      "dtypes: datetime64[ns](1), int64(9), object(11)\n",
      "memory usage: 2.7+ MB\n"
     ]
    }
   ],
   "source": [
    "df5.info()"
   ]
  },
  {
   "cell_type": "code",
   "execution_count": 10,
   "id": "ambient-phoenix",
   "metadata": {
    "scrolled": true
   },
   "outputs": [
    {
     "data": {
      "text/html": [
       "<div>\n",
       "<style scoped>\n",
       "    .dataframe tbody tr th:only-of-type {\n",
       "        vertical-align: middle;\n",
       "    }\n",
       "\n",
       "    .dataframe tbody tr th {\n",
       "        vertical-align: top;\n",
       "    }\n",
       "\n",
       "    .dataframe thead th {\n",
       "        text-align: right;\n",
       "    }\n",
       "</style>\n",
       "<table border=\"1\" class=\"dataframe\">\n",
       "  <thead>\n",
       "    <tr style=\"text-align: right;\">\n",
       "      <th></th>\n",
       "      <th>Unnamed: 0</th>\n",
       "      <th>_CASE_KEY</th>\n",
       "      <th>Variant</th>\n",
       "      <th>Customer_ID</th>\n",
       "      <th>Revenue</th>\n",
       "      <th>Costs</th>\n",
       "      <th>Pizza Type</th>\n",
       "      <th>Pizza Size</th>\n",
       "      <th>Customer Satisfaction</th>\n",
       "      <th>Cost Factor</th>\n",
       "      <th>...</th>\n",
       "      <th>Daytime</th>\n",
       "      <th>Distribution Channel</th>\n",
       "      <th>Customer Location</th>\n",
       "      <th>Customer Type</th>\n",
       "      <th>Customer_Location</th>\n",
       "      <th>Customer_Type</th>\n",
       "      <th>SORTING</th>\n",
       "      <th>EVENTTIME</th>\n",
       "      <th>ACTIVITY_EN</th>\n",
       "      <th>Automation</th>\n",
       "    </tr>\n",
       "  </thead>\n",
       "  <tbody>\n",
       "    <tr>\n",
       "      <th>0</th>\n",
       "      <td>0</td>\n",
       "      <td>895</td>\n",
       "      <td>1</td>\n",
       "      <td>175</td>\n",
       "      <td>17</td>\n",
       "      <td>13</td>\n",
       "      <td>Funghi</td>\n",
       "      <td>Medium</td>\n",
       "      <td>3</td>\n",
       "      <td>Chef 2</td>\n",
       "      <td>...</td>\n",
       "      <td>14</td>\n",
       "      <td>Feedera SE</td>\n",
       "      <td>Munich District One</td>\n",
       "      <td>Student</td>\n",
       "      <td>Munich District Five</td>\n",
       "      <td>Adult</td>\n",
       "      <td>7169</td>\n",
       "      <td>2018-03-29 11:01:58</td>\n",
       "      <td>Order by phone</td>\n",
       "      <td>A</td>\n",
       "    </tr>\n",
       "    <tr>\n",
       "      <th>1</th>\n",
       "      <td>0</td>\n",
       "      <td>895</td>\n",
       "      <td>1</td>\n",
       "      <td>175</td>\n",
       "      <td>17</td>\n",
       "      <td>13</td>\n",
       "      <td>Funghi</td>\n",
       "      <td>Medium</td>\n",
       "      <td>3</td>\n",
       "      <td>Chef 2</td>\n",
       "      <td>...</td>\n",
       "      <td>14</td>\n",
       "      <td>Feedera SE</td>\n",
       "      <td>Munich District One</td>\n",
       "      <td>Student</td>\n",
       "      <td>Munich District Five</td>\n",
       "      <td>Adult</td>\n",
       "      <td>7170</td>\n",
       "      <td>2018-03-29 11:03:58</td>\n",
       "      <td>Start preparing pizza</td>\n",
       "      <td>A</td>\n",
       "    </tr>\n",
       "    <tr>\n",
       "      <th>2</th>\n",
       "      <td>0</td>\n",
       "      <td>895</td>\n",
       "      <td>1</td>\n",
       "      <td>175</td>\n",
       "      <td>17</td>\n",
       "      <td>13</td>\n",
       "      <td>Funghi</td>\n",
       "      <td>Medium</td>\n",
       "      <td>3</td>\n",
       "      <td>Chef 2</td>\n",
       "      <td>...</td>\n",
       "      <td>14</td>\n",
       "      <td>Feedera SE</td>\n",
       "      <td>Munich District One</td>\n",
       "      <td>Student</td>\n",
       "      <td>Munich District Five</td>\n",
       "      <td>Adult</td>\n",
       "      <td>7171</td>\n",
       "      <td>2018-03-29 11:06:58</td>\n",
       "      <td>Start baking pizza</td>\n",
       "      <td>A</td>\n",
       "    </tr>\n",
       "    <tr>\n",
       "      <th>3</th>\n",
       "      <td>0</td>\n",
       "      <td>895</td>\n",
       "      <td>1</td>\n",
       "      <td>175</td>\n",
       "      <td>17</td>\n",
       "      <td>13</td>\n",
       "      <td>Funghi</td>\n",
       "      <td>Medium</td>\n",
       "      <td>3</td>\n",
       "      <td>Chef 2</td>\n",
       "      <td>...</td>\n",
       "      <td>14</td>\n",
       "      <td>Feedera SE</td>\n",
       "      <td>Munich District One</td>\n",
       "      <td>Student</td>\n",
       "      <td>Munich District Five</td>\n",
       "      <td>Adult</td>\n",
       "      <td>7172</td>\n",
       "      <td>2018-03-29 11:13:58</td>\n",
       "      <td>Baking pizza ready</td>\n",
       "      <td>B</td>\n",
       "    </tr>\n",
       "    <tr>\n",
       "      <th>4</th>\n",
       "      <td>0</td>\n",
       "      <td>895</td>\n",
       "      <td>1</td>\n",
       "      <td>175</td>\n",
       "      <td>17</td>\n",
       "      <td>13</td>\n",
       "      <td>Funghi</td>\n",
       "      <td>Medium</td>\n",
       "      <td>3</td>\n",
       "      <td>Chef 2</td>\n",
       "      <td>...</td>\n",
       "      <td>14</td>\n",
       "      <td>Feedera SE</td>\n",
       "      <td>Munich District One</td>\n",
       "      <td>Student</td>\n",
       "      <td>Munich District Five</td>\n",
       "      <td>Adult</td>\n",
       "      <td>7173</td>\n",
       "      <td>2018-03-29 11:18:58</td>\n",
       "      <td>Plan route</td>\n",
       "      <td>A</td>\n",
       "    </tr>\n",
       "    <tr>\n",
       "      <th>...</th>\n",
       "      <td>...</td>\n",
       "      <td>...</td>\n",
       "      <td>...</td>\n",
       "      <td>...</td>\n",
       "      <td>...</td>\n",
       "      <td>...</td>\n",
       "      <td>...</td>\n",
       "      <td>...</td>\n",
       "      <td>...</td>\n",
       "      <td>...</td>\n",
       "      <td>...</td>\n",
       "      <td>...</td>\n",
       "      <td>...</td>\n",
       "      <td>...</td>\n",
       "      <td>...</td>\n",
       "      <td>...</td>\n",
       "      <td>...</td>\n",
       "      <td>...</td>\n",
       "      <td>...</td>\n",
       "      <td>...</td>\n",
       "      <td>...</td>\n",
       "    </tr>\n",
       "    <tr>\n",
       "      <th>15804</th>\n",
       "      <td>1997</td>\n",
       "      <td>1978</td>\n",
       "      <td>4</td>\n",
       "      <td>256</td>\n",
       "      <td>13</td>\n",
       "      <td>37</td>\n",
       "      <td>Veggie</td>\n",
       "      <td>Medium</td>\n",
       "      <td>2</td>\n",
       "      <td>Waiter</td>\n",
       "      <td>...</td>\n",
       "      <td>13</td>\n",
       "      <td>Feedera SE</td>\n",
       "      <td>Munich District Three</td>\n",
       "      <td>Student</td>\n",
       "      <td>Munich District One</td>\n",
       "      <td>Student</td>\n",
       "      <td>15636</td>\n",
       "      <td>2018-06-17 15:27:34</td>\n",
       "      <td>Baking pizza ready</td>\n",
       "      <td>A</td>\n",
       "    </tr>\n",
       "    <tr>\n",
       "      <th>15805</th>\n",
       "      <td>1997</td>\n",
       "      <td>1978</td>\n",
       "      <td>4</td>\n",
       "      <td>256</td>\n",
       "      <td>13</td>\n",
       "      <td>37</td>\n",
       "      <td>Veggie</td>\n",
       "      <td>Medium</td>\n",
       "      <td>2</td>\n",
       "      <td>Waiter</td>\n",
       "      <td>...</td>\n",
       "      <td>13</td>\n",
       "      <td>Feedera SE</td>\n",
       "      <td>Munich District Three</td>\n",
       "      <td>Student</td>\n",
       "      <td>Munich District One</td>\n",
       "      <td>Student</td>\n",
       "      <td>15637</td>\n",
       "      <td>2018-06-17 15:31:34</td>\n",
       "      <td>Plan route</td>\n",
       "      <td>B</td>\n",
       "    </tr>\n",
       "    <tr>\n",
       "      <th>15806</th>\n",
       "      <td>1997</td>\n",
       "      <td>1978</td>\n",
       "      <td>4</td>\n",
       "      <td>256</td>\n",
       "      <td>13</td>\n",
       "      <td>37</td>\n",
       "      <td>Veggie</td>\n",
       "      <td>Medium</td>\n",
       "      <td>2</td>\n",
       "      <td>Waiter</td>\n",
       "      <td>...</td>\n",
       "      <td>13</td>\n",
       "      <td>Feedera SE</td>\n",
       "      <td>Munich District Three</td>\n",
       "      <td>Student</td>\n",
       "      <td>Munich District One</td>\n",
       "      <td>Student</td>\n",
       "      <td>15638</td>\n",
       "      <td>2018-06-17 15:34:34</td>\n",
       "      <td>Departure pizza</td>\n",
       "      <td>A</td>\n",
       "    </tr>\n",
       "    <tr>\n",
       "      <th>15807</th>\n",
       "      <td>1997</td>\n",
       "      <td>1978</td>\n",
       "      <td>4</td>\n",
       "      <td>256</td>\n",
       "      <td>13</td>\n",
       "      <td>37</td>\n",
       "      <td>Veggie</td>\n",
       "      <td>Medium</td>\n",
       "      <td>2</td>\n",
       "      <td>Waiter</td>\n",
       "      <td>...</td>\n",
       "      <td>13</td>\n",
       "      <td>Feedera SE</td>\n",
       "      <td>Munich District Three</td>\n",
       "      <td>Student</td>\n",
       "      <td>Munich District One</td>\n",
       "      <td>Student</td>\n",
       "      <td>15639</td>\n",
       "      <td>2018-06-17 15:40:34</td>\n",
       "      <td>Pizza arrives at customer</td>\n",
       "      <td>A</td>\n",
       "    </tr>\n",
       "    <tr>\n",
       "      <th>15808</th>\n",
       "      <td>1997</td>\n",
       "      <td>1978</td>\n",
       "      <td>4</td>\n",
       "      <td>256</td>\n",
       "      <td>13</td>\n",
       "      <td>37</td>\n",
       "      <td>Veggie</td>\n",
       "      <td>Medium</td>\n",
       "      <td>2</td>\n",
       "      <td>Waiter</td>\n",
       "      <td>...</td>\n",
       "      <td>13</td>\n",
       "      <td>Feedera SE</td>\n",
       "      <td>Munich District Three</td>\n",
       "      <td>Student</td>\n",
       "      <td>Munich District One</td>\n",
       "      <td>Student</td>\n",
       "      <td>15640</td>\n",
       "      <td>2018-06-17 16:18:34</td>\n",
       "      <td>Payment customer</td>\n",
       "      <td>A</td>\n",
       "    </tr>\n",
       "  </tbody>\n",
       "</table>\n",
       "<p>15809 rows × 21 columns</p>\n",
       "</div>"
      ],
      "text/plain": [
       "       Unnamed: 0  _CASE_KEY  Variant  Customer_ID  Revenue  Costs Pizza Type  \\\n",
       "0               0        895        1          175       17     13     Funghi   \n",
       "1               0        895        1          175       17     13     Funghi   \n",
       "2               0        895        1          175       17     13     Funghi   \n",
       "3               0        895        1          175       17     13     Funghi   \n",
       "4               0        895        1          175       17     13     Funghi   \n",
       "...           ...        ...      ...          ...      ...    ...        ...   \n",
       "15804        1997       1978        4          256       13     37     Veggie   \n",
       "15805        1997       1978        4          256       13     37     Veggie   \n",
       "15806        1997       1978        4          256       13     37     Veggie   \n",
       "15807        1997       1978        4          256       13     37     Veggie   \n",
       "15808        1997       1978        4          256       13     37     Veggie   \n",
       "\n",
       "      Pizza Size  Customer Satisfaction Cost Factor  ... Daytime  \\\n",
       "0         Medium                      3      Chef 2  ...      14   \n",
       "1         Medium                      3      Chef 2  ...      14   \n",
       "2         Medium                      3      Chef 2  ...      14   \n",
       "3         Medium                      3      Chef 2  ...      14   \n",
       "4         Medium                      3      Chef 2  ...      14   \n",
       "...          ...                    ...         ...  ...     ...   \n",
       "15804     Medium                      2      Waiter  ...      13   \n",
       "15805     Medium                      2      Waiter  ...      13   \n",
       "15806     Medium                      2      Waiter  ...      13   \n",
       "15807     Medium                      2      Waiter  ...      13   \n",
       "15808     Medium                      2      Waiter  ...      13   \n",
       "\n",
       "       Distribution Channel      Customer Location Customer Type  \\\n",
       "0                Feedera SE    Munich District One       Student   \n",
       "1                Feedera SE    Munich District One       Student   \n",
       "2                Feedera SE    Munich District One       Student   \n",
       "3                Feedera SE    Munich District One       Student   \n",
       "4                Feedera SE    Munich District One       Student   \n",
       "...                     ...                    ...           ...   \n",
       "15804            Feedera SE  Munich District Three       Student   \n",
       "15805            Feedera SE  Munich District Three       Student   \n",
       "15806            Feedera SE  Munich District Three       Student   \n",
       "15807            Feedera SE  Munich District Three       Student   \n",
       "15808            Feedera SE  Munich District Three       Student   \n",
       "\n",
       "          Customer_Location Customer_Type SORTING           EVENTTIME  \\\n",
       "0      Munich District Five         Adult    7169 2018-03-29 11:01:58   \n",
       "1      Munich District Five         Adult    7170 2018-03-29 11:03:58   \n",
       "2      Munich District Five         Adult    7171 2018-03-29 11:06:58   \n",
       "3      Munich District Five         Adult    7172 2018-03-29 11:13:58   \n",
       "4      Munich District Five         Adult    7173 2018-03-29 11:18:58   \n",
       "...                     ...           ...     ...                 ...   \n",
       "15804   Munich District One       Student   15636 2018-06-17 15:27:34   \n",
       "15805   Munich District One       Student   15637 2018-06-17 15:31:34   \n",
       "15806   Munich District One       Student   15638 2018-06-17 15:34:34   \n",
       "15807   Munich District One       Student   15639 2018-06-17 15:40:34   \n",
       "15808   Munich District One       Student   15640 2018-06-17 16:18:34   \n",
       "\n",
       "                     ACTIVITY_EN Automation  \n",
       "0                 Order by phone          A  \n",
       "1          Start preparing pizza          A  \n",
       "2             Start baking pizza          A  \n",
       "3             Baking pizza ready          B  \n",
       "4                     Plan route          A  \n",
       "...                          ...        ...  \n",
       "15804         Baking pizza ready          A  \n",
       "15805                 Plan route          B  \n",
       "15806            Departure pizza          A  \n",
       "15807  Pizza arrives at customer          A  \n",
       "15808           Payment customer          A  \n",
       "\n",
       "[15809 rows x 21 columns]"
      ]
     },
     "execution_count": 10,
     "metadata": {},
     "output_type": "execute_result"
    }
   ],
   "source": [
    "df5"
   ]
  },
  {
   "cell_type": "markdown",
   "id": "initial-namibia",
   "metadata": {},
   "source": [
    "df5"
   ]
  },
  {
   "cell_type": "code",
   "execution_count": 11,
   "id": "authentic-officer",
   "metadata": {},
   "outputs": [
    {
     "data": {
      "text/plain": [
       "Unnamed: 0               0\n",
       "_CASE_KEY                0\n",
       "Variant                  0\n",
       "Customer_ID              0\n",
       "Revenue                  0\n",
       "Costs                    0\n",
       "Pizza Type               0\n",
       "Pizza Size               0\n",
       "Customer Satisfaction    0\n",
       "Cost Factor              0\n",
       "Weekday                  0\n",
       "Daytime                  0\n",
       "Distribution Channel     0\n",
       "Customer Location        0\n",
       "Customer Type            0\n",
       "Customer_Location        0\n",
       "Customer_Type            0\n",
       "SORTING                  0\n",
       "EVENTTIME                0\n",
       "ACTIVITY_EN              0\n",
       "Automation               0\n",
       "dtype: int64"
      ]
     },
     "execution_count": 11,
     "metadata": {},
     "output_type": "execute_result"
    }
   ],
   "source": [
    "df5.isnull().sum()"
   ]
  },
  {
   "cell_type": "code",
   "execution_count": 12,
   "id": "minor-turkish",
   "metadata": {},
   "outputs": [
    {
     "data": {
      "text/plain": [
       "Index(['Unnamed: 0', '_CASE_KEY', 'Variant', 'Customer_ID', 'Revenue', 'Costs',\n",
       "       'Pizza Type', 'Pizza Size', 'Customer Satisfaction', 'Cost Factor',\n",
       "       'Weekday', 'Daytime', 'Distribution Channel', 'Customer Location',\n",
       "       'Customer Type', 'Customer_Location', 'Customer_Type', 'SORTING',\n",
       "       'EVENTTIME', 'ACTIVITY_EN', 'Automation'],\n",
       "      dtype='object')"
      ]
     },
     "execution_count": 12,
     "metadata": {},
     "output_type": "execute_result"
    }
   ],
   "source": [
    "df5.columns"
   ]
  },
  {
   "cell_type": "code",
   "execution_count": 13,
   "id": "seeing-equality",
   "metadata": {},
   "outputs": [
    {
     "data": {
      "text/plain": [
       "537"
      ]
     },
     "execution_count": 13,
     "metadata": {},
     "output_type": "execute_result"
    }
   ],
   "source": [
    "df5['_CASE_KEY'].where(df5['Variant'] == 1).nunique()"
   ]
  },
  {
   "cell_type": "markdown",
   "id": "domestic-director",
   "metadata": {},
   "source": [
    "df5"
   ]
  },
  {
   "cell_type": "code",
   "execution_count": 14,
   "id": "developing-accounting",
   "metadata": {},
   "outputs": [
    {
     "data": {
      "text/plain": [
       "1826"
      ]
     },
     "execution_count": 14,
     "metadata": {},
     "output_type": "execute_result"
    }
   ],
   "source": [
    "df5['_CASE_KEY'].nunique()"
   ]
  },
  {
   "cell_type": "code",
   "execution_count": 15,
   "id": "concrete-quarterly",
   "metadata": {},
   "outputs": [
    {
     "data": {
      "text/plain": [
       "8"
      ]
     },
     "execution_count": 15,
     "metadata": {},
     "output_type": "execute_result"
    }
   ],
   "source": [
    "df5['Variant'].nunique()"
   ]
  },
  {
   "cell_type": "markdown",
   "id": "coordinate-portable",
   "metadata": {},
   "source": [
    "##### "
   ]
  },
  {
   "cell_type": "code",
   "execution_count": 16,
   "id": "eleven-lewis",
   "metadata": {},
   "outputs": [
    {
     "data": {
      "text/plain": [
       "0                Order by phone\n",
       "1         Start preparing pizza\n",
       "2            Start baking pizza\n",
       "3            Baking pizza ready\n",
       "4                    Plan route\n",
       "5               Departure pizza\n",
       "6     Pizza arrives at customer\n",
       "7              Payment customer\n",
       "8                Order by phone\n",
       "9         Start preparing pizza\n",
       "10           Start baking pizza\n",
       "11           Baking pizza ready\n",
       "12                   Plan route\n",
       "13              Departure pizza\n",
       "14             Payment customer\n",
       "15    Pizza arrives at customer\n",
       "16               Order by phone\n",
       "17        Start preparing pizza\n",
       "18           Start baking pizza\n",
       "19           Baking pizza ready\n",
       "Name: ACTIVITY_EN, dtype: object"
      ]
     },
     "execution_count": 16,
     "metadata": {},
     "output_type": "execute_result"
    }
   ],
   "source": [
    "df5['ACTIVITY_EN'].head(20)"
   ]
  },
  {
   "cell_type": "code",
   "execution_count": 17,
   "id": "geological-profile",
   "metadata": {},
   "outputs": [
    {
     "data": {
      "text/html": [
       "<div>\n",
       "<style scoped>\n",
       "    .dataframe tbody tr th:only-of-type {\n",
       "        vertical-align: middle;\n",
       "    }\n",
       "\n",
       "    .dataframe tbody tr th {\n",
       "        vertical-align: top;\n",
       "    }\n",
       "\n",
       "    .dataframe thead th {\n",
       "        text-align: right;\n",
       "    }\n",
       "</style>\n",
       "<table border=\"1\" class=\"dataframe\">\n",
       "  <thead>\n",
       "    <tr style=\"text-align: right;\">\n",
       "      <th></th>\n",
       "      <th>Unnamed: 0</th>\n",
       "      <th>_CASE_KEY</th>\n",
       "      <th>Variant</th>\n",
       "      <th>Customer_ID</th>\n",
       "      <th>Revenue</th>\n",
       "      <th>Costs</th>\n",
       "      <th>Pizza Type</th>\n",
       "      <th>Pizza Size</th>\n",
       "      <th>Customer Satisfaction</th>\n",
       "      <th>Cost Factor</th>\n",
       "      <th>...</th>\n",
       "      <th>Daytime</th>\n",
       "      <th>Distribution Channel</th>\n",
       "      <th>Customer Location</th>\n",
       "      <th>Customer Type</th>\n",
       "      <th>Customer_Location</th>\n",
       "      <th>Customer_Type</th>\n",
       "      <th>SORTING</th>\n",
       "      <th>EVENTTIME</th>\n",
       "      <th>ACTIVITY_EN</th>\n",
       "      <th>Automation</th>\n",
       "    </tr>\n",
       "  </thead>\n",
       "  <tbody>\n",
       "    <tr>\n",
       "      <th>0</th>\n",
       "      <td>0</td>\n",
       "      <td>895</td>\n",
       "      <td>1</td>\n",
       "      <td>175</td>\n",
       "      <td>17</td>\n",
       "      <td>13</td>\n",
       "      <td>Funghi</td>\n",
       "      <td>Medium</td>\n",
       "      <td>3</td>\n",
       "      <td>Chef 2</td>\n",
       "      <td>...</td>\n",
       "      <td>14</td>\n",
       "      <td>Feedera SE</td>\n",
       "      <td>Munich District One</td>\n",
       "      <td>Student</td>\n",
       "      <td>Munich District Five</td>\n",
       "      <td>Adult</td>\n",
       "      <td>7169</td>\n",
       "      <td>2018-03-29 11:01:58</td>\n",
       "      <td>Order by phone</td>\n",
       "      <td>A</td>\n",
       "    </tr>\n",
       "    <tr>\n",
       "      <th>7</th>\n",
       "      <td>0</td>\n",
       "      <td>895</td>\n",
       "      <td>1</td>\n",
       "      <td>175</td>\n",
       "      <td>17</td>\n",
       "      <td>13</td>\n",
       "      <td>Funghi</td>\n",
       "      <td>Medium</td>\n",
       "      <td>3</td>\n",
       "      <td>Chef 2</td>\n",
       "      <td>...</td>\n",
       "      <td>14</td>\n",
       "      <td>Feedera SE</td>\n",
       "      <td>Munich District One</td>\n",
       "      <td>Student</td>\n",
       "      <td>Munich District Five</td>\n",
       "      <td>Adult</td>\n",
       "      <td>7176</td>\n",
       "      <td>2018-03-29 12:04:58</td>\n",
       "      <td>Payment customer</td>\n",
       "      <td>A</td>\n",
       "    </tr>\n",
       "    <tr>\n",
       "      <th>14</th>\n",
       "      <td>1</td>\n",
       "      <td>1644</td>\n",
       "      <td>1</td>\n",
       "      <td>175</td>\n",
       "      <td>21</td>\n",
       "      <td>5</td>\n",
       "      <td>Magherita</td>\n",
       "      <td>Large</td>\n",
       "      <td>2</td>\n",
       "      <td>Ingredients</td>\n",
       "      <td>...</td>\n",
       "      <td>19</td>\n",
       "      <td>BestOrder Inc.</td>\n",
       "      <td>Munich District Three</td>\n",
       "      <td>Teenager</td>\n",
       "      <td>Munich District Five</td>\n",
       "      <td>Adult</td>\n",
       "      <td>13050</td>\n",
       "      <td>2018-03-20 12:38:05</td>\n",
       "      <td>Payment customer</td>\n",
       "      <td>A</td>\n",
       "    </tr>\n",
       "    <tr>\n",
       "      <th>21</th>\n",
       "      <td>2</td>\n",
       "      <td>1196</td>\n",
       "      <td>1</td>\n",
       "      <td>175</td>\n",
       "      <td>37</td>\n",
       "      <td>7</td>\n",
       "      <td>Funghi</td>\n",
       "      <td>Large</td>\n",
       "      <td>4</td>\n",
       "      <td>Chef 2</td>\n",
       "      <td>...</td>\n",
       "      <td>19</td>\n",
       "      <td>BestOrder Inc.</td>\n",
       "      <td>Munich District Three</td>\n",
       "      <td>Student</td>\n",
       "      <td>Munich District Five</td>\n",
       "      <td>Adult</td>\n",
       "      <td>9518</td>\n",
       "      <td>2018-04-26 08:38:22</td>\n",
       "      <td>Plan route</td>\n",
       "      <td>B</td>\n",
       "    </tr>\n",
       "    <tr>\n",
       "      <th>28</th>\n",
       "      <td>4</td>\n",
       "      <td>426</td>\n",
       "      <td>1</td>\n",
       "      <td>13</td>\n",
       "      <td>19</td>\n",
       "      <td>10</td>\n",
       "      <td>Salami</td>\n",
       "      <td>Small</td>\n",
       "      <td>3</td>\n",
       "      <td>Chef 2</td>\n",
       "      <td>...</td>\n",
       "      <td>13</td>\n",
       "      <td>Deliver Now Holding</td>\n",
       "      <td>Munich District One</td>\n",
       "      <td>Student</td>\n",
       "      <td>Munich District Three</td>\n",
       "      <td>Teenager</td>\n",
       "      <td>3451</td>\n",
       "      <td>2018-04-25 07:49:28</td>\n",
       "      <td>Departure pizza</td>\n",
       "      <td>A</td>\n",
       "    </tr>\n",
       "    <tr>\n",
       "      <th>...</th>\n",
       "      <td>...</td>\n",
       "      <td>...</td>\n",
       "      <td>...</td>\n",
       "      <td>...</td>\n",
       "      <td>...</td>\n",
       "      <td>...</td>\n",
       "      <td>...</td>\n",
       "      <td>...</td>\n",
       "      <td>...</td>\n",
       "      <td>...</td>\n",
       "      <td>...</td>\n",
       "      <td>...</td>\n",
       "      <td>...</td>\n",
       "      <td>...</td>\n",
       "      <td>...</td>\n",
       "      <td>...</td>\n",
       "      <td>...</td>\n",
       "      <td>...</td>\n",
       "      <td>...</td>\n",
       "      <td>...</td>\n",
       "      <td>...</td>\n",
       "    </tr>\n",
       "    <tr>\n",
       "      <th>15778</th>\n",
       "      <td>1994</td>\n",
       "      <td>1359</td>\n",
       "      <td>4</td>\n",
       "      <td>288</td>\n",
       "      <td>11</td>\n",
       "      <td>7</td>\n",
       "      <td>Funghi</td>\n",
       "      <td>Large</td>\n",
       "      <td>0</td>\n",
       "      <td>Chef 2</td>\n",
       "      <td>...</td>\n",
       "      <td>19</td>\n",
       "      <td>Feedera SE</td>\n",
       "      <td>Munich District One</td>\n",
       "      <td>Student</td>\n",
       "      <td>Munich District One</td>\n",
       "      <td>Student</td>\n",
       "      <td>10825</td>\n",
       "      <td>2018-02-20 06:29:33</td>\n",
       "      <td>Payment customer</td>\n",
       "      <td>A</td>\n",
       "    </tr>\n",
       "    <tr>\n",
       "      <th>15785</th>\n",
       "      <td>1995</td>\n",
       "      <td>884</td>\n",
       "      <td>4</td>\n",
       "      <td>288</td>\n",
       "      <td>5</td>\n",
       "      <td>10</td>\n",
       "      <td>Calzone</td>\n",
       "      <td>Medium</td>\n",
       "      <td>2</td>\n",
       "      <td>Chef 1</td>\n",
       "      <td>...</td>\n",
       "      <td>12</td>\n",
       "      <td>Deliver Now Holding</td>\n",
       "      <td>Munich District One</td>\n",
       "      <td>Adult</td>\n",
       "      <td>Munich District One</td>\n",
       "      <td>Student</td>\n",
       "      <td>7105</td>\n",
       "      <td>2018-06-08 03:31:09</td>\n",
       "      <td>Plan route</td>\n",
       "      <td>A</td>\n",
       "    </tr>\n",
       "    <tr>\n",
       "      <th>15792</th>\n",
       "      <td>1996</td>\n",
       "      <td>633</td>\n",
       "      <td>4</td>\n",
       "      <td>256</td>\n",
       "      <td>36</td>\n",
       "      <td>47</td>\n",
       "      <td>Paprika</td>\n",
       "      <td>Large</td>\n",
       "      <td>0</td>\n",
       "      <td>Waiter</td>\n",
       "      <td>...</td>\n",
       "      <td>18</td>\n",
       "      <td>Deliver Now Holding</td>\n",
       "      <td>Munich District Three</td>\n",
       "      <td>Student</td>\n",
       "      <td>Munich District One</td>\n",
       "      <td>Student</td>\n",
       "      <td>5081</td>\n",
       "      <td>2018-05-03 19:36:51</td>\n",
       "      <td>Start preparing pizza</td>\n",
       "      <td>A</td>\n",
       "    </tr>\n",
       "    <tr>\n",
       "      <th>15799</th>\n",
       "      <td>1997</td>\n",
       "      <td>1978</td>\n",
       "      <td>4</td>\n",
       "      <td>256</td>\n",
       "      <td>13</td>\n",
       "      <td>37</td>\n",
       "      <td>Veggie</td>\n",
       "      <td>Medium</td>\n",
       "      <td>2</td>\n",
       "      <td>Waiter</td>\n",
       "      <td>...</td>\n",
       "      <td>13</td>\n",
       "      <td>Feedera SE</td>\n",
       "      <td>Munich District Three</td>\n",
       "      <td>Student</td>\n",
       "      <td>Munich District One</td>\n",
       "      <td>Student</td>\n",
       "      <td>15631</td>\n",
       "      <td>2018-06-17 15:07:34</td>\n",
       "      <td>Order by phone</td>\n",
       "      <td>A</td>\n",
       "    </tr>\n",
       "    <tr>\n",
       "      <th>15806</th>\n",
       "      <td>1997</td>\n",
       "      <td>1978</td>\n",
       "      <td>4</td>\n",
       "      <td>256</td>\n",
       "      <td>13</td>\n",
       "      <td>37</td>\n",
       "      <td>Veggie</td>\n",
       "      <td>Medium</td>\n",
       "      <td>2</td>\n",
       "      <td>Waiter</td>\n",
       "      <td>...</td>\n",
       "      <td>13</td>\n",
       "      <td>Feedera SE</td>\n",
       "      <td>Munich District Three</td>\n",
       "      <td>Student</td>\n",
       "      <td>Munich District One</td>\n",
       "      <td>Student</td>\n",
       "      <td>15638</td>\n",
       "      <td>2018-06-17 15:34:34</td>\n",
       "      <td>Departure pizza</td>\n",
       "      <td>A</td>\n",
       "    </tr>\n",
       "  </tbody>\n",
       "</table>\n",
       "<p>2259 rows × 21 columns</p>\n",
       "</div>"
      ],
      "text/plain": [
       "       Unnamed: 0  _CASE_KEY  Variant  Customer_ID  Revenue  Costs Pizza Type  \\\n",
       "0               0        895        1          175       17     13     Funghi   \n",
       "7               0        895        1          175       17     13     Funghi   \n",
       "14              1       1644        1          175       21      5  Magherita   \n",
       "21              2       1196        1          175       37      7     Funghi   \n",
       "28              4        426        1           13       19     10     Salami   \n",
       "...           ...        ...      ...          ...      ...    ...        ...   \n",
       "15778        1994       1359        4          288       11      7     Funghi   \n",
       "15785        1995        884        4          288        5     10    Calzone   \n",
       "15792        1996        633        4          256       36     47    Paprika   \n",
       "15799        1997       1978        4          256       13     37     Veggie   \n",
       "15806        1997       1978        4          256       13     37     Veggie   \n",
       "\n",
       "      Pizza Size  Customer Satisfaction  Cost Factor  ... Daytime  \\\n",
       "0         Medium                      3       Chef 2  ...      14   \n",
       "7         Medium                      3       Chef 2  ...      14   \n",
       "14         Large                      2  Ingredients  ...      19   \n",
       "21         Large                      4       Chef 2  ...      19   \n",
       "28         Small                      3       Chef 2  ...      13   \n",
       "...          ...                    ...          ...  ...     ...   \n",
       "15778      Large                      0       Chef 2  ...      19   \n",
       "15785     Medium                      2       Chef 1  ...      12   \n",
       "15792      Large                      0       Waiter  ...      18   \n",
       "15799     Medium                      2       Waiter  ...      13   \n",
       "15806     Medium                      2       Waiter  ...      13   \n",
       "\n",
       "       Distribution Channel      Customer Location Customer Type  \\\n",
       "0                Feedera SE    Munich District One       Student   \n",
       "7                Feedera SE    Munich District One       Student   \n",
       "14           BestOrder Inc.  Munich District Three      Teenager   \n",
       "21           BestOrder Inc.  Munich District Three       Student   \n",
       "28      Deliver Now Holding    Munich District One       Student   \n",
       "...                     ...                    ...           ...   \n",
       "15778            Feedera SE    Munich District One       Student   \n",
       "15785   Deliver Now Holding    Munich District One         Adult   \n",
       "15792   Deliver Now Holding  Munich District Three       Student   \n",
       "15799            Feedera SE  Munich District Three       Student   \n",
       "15806            Feedera SE  Munich District Three       Student   \n",
       "\n",
       "           Customer_Location Customer_Type SORTING           EVENTTIME  \\\n",
       "0       Munich District Five         Adult    7169 2018-03-29 11:01:58   \n",
       "7       Munich District Five         Adult    7176 2018-03-29 12:04:58   \n",
       "14      Munich District Five         Adult   13050 2018-03-20 12:38:05   \n",
       "21      Munich District Five         Adult    9518 2018-04-26 08:38:22   \n",
       "28     Munich District Three      Teenager    3451 2018-04-25 07:49:28   \n",
       "...                      ...           ...     ...                 ...   \n",
       "15778    Munich District One       Student   10825 2018-02-20 06:29:33   \n",
       "15785    Munich District One       Student    7105 2018-06-08 03:31:09   \n",
       "15792    Munich District One       Student    5081 2018-05-03 19:36:51   \n",
       "15799    Munich District One       Student   15631 2018-06-17 15:07:34   \n",
       "15806    Munich District One       Student   15638 2018-06-17 15:34:34   \n",
       "\n",
       "                 ACTIVITY_EN Automation  \n",
       "0             Order by phone          A  \n",
       "7           Payment customer          A  \n",
       "14          Payment customer          A  \n",
       "21                Plan route          B  \n",
       "28           Departure pizza          A  \n",
       "...                      ...        ...  \n",
       "15778       Payment customer          A  \n",
       "15785             Plan route          A  \n",
       "15792  Start preparing pizza          A  \n",
       "15799         Order by phone          A  \n",
       "15806        Departure pizza          A  \n",
       "\n",
       "[2259 rows x 21 columns]"
      ]
     },
     "execution_count": 17,
     "metadata": {},
     "output_type": "execute_result"
    }
   ],
   "source": [
    "df5[0::7]"
   ]
  },
  {
   "cell_type": "code",
   "execution_count": 18,
   "id": "relevant-vehicle",
   "metadata": {},
   "outputs": [
    {
     "data": {
      "text/plain": [
       "Index(['Unnamed: 0', '_CASE_KEY', 'Variant', 'Customer_ID', 'Revenue', 'Costs',\n",
       "       'Pizza Type', 'Pizza Size', 'Customer Satisfaction', 'Cost Factor',\n",
       "       'Weekday', 'Daytime', 'Distribution Channel', 'Customer Location',\n",
       "       'Customer Type', 'Customer_Location', 'Customer_Type', 'SORTING',\n",
       "       'EVENTTIME', 'ACTIVITY_EN', 'Automation', 'profit'],\n",
       "      dtype='object')"
      ]
     },
     "execution_count": 18,
     "metadata": {},
     "output_type": "execute_result"
    }
   ],
   "source": [
    "df = df5\n",
    "df['profit'] = df['Costs'] - df['Revenue']\n",
    "df.columns"
   ]
  },
  {
   "cell_type": "code",
   "execution_count": 19,
   "id": "casual-genealogy",
   "metadata": {},
   "outputs": [
    {
     "data": {
      "text/html": [
       "<div>\n",
       "<style scoped>\n",
       "    .dataframe tbody tr th:only-of-type {\n",
       "        vertical-align: middle;\n",
       "    }\n",
       "\n",
       "    .dataframe tbody tr th {\n",
       "        vertical-align: top;\n",
       "    }\n",
       "\n",
       "    .dataframe thead th {\n",
       "        text-align: right;\n",
       "    }\n",
       "</style>\n",
       "<table border=\"1\" class=\"dataframe\">\n",
       "  <thead>\n",
       "    <tr style=\"text-align: right;\">\n",
       "      <th></th>\n",
       "      <th>Unnamed: 0</th>\n",
       "      <th>_CASE_KEY</th>\n",
       "      <th>Variant</th>\n",
       "      <th>Customer_ID</th>\n",
       "      <th>Revenue</th>\n",
       "      <th>Costs</th>\n",
       "      <th>Customer Satisfaction</th>\n",
       "      <th>Daytime</th>\n",
       "      <th>SORTING</th>\n",
       "      <th>profit</th>\n",
       "    </tr>\n",
       "  </thead>\n",
       "  <tbody>\n",
       "    <tr>\n",
       "      <th>count</th>\n",
       "      <td>15809.000000</td>\n",
       "      <td>15809.000000</td>\n",
       "      <td>15809.000000</td>\n",
       "      <td>15809.000000</td>\n",
       "      <td>15809.000000</td>\n",
       "      <td>15809.000000</td>\n",
       "      <td>15809.000000</td>\n",
       "      <td>15809.000000</td>\n",
       "      <td>15809.000000</td>\n",
       "      <td>15809.000000</td>\n",
       "    </tr>\n",
       "    <tr>\n",
       "      <th>mean</th>\n",
       "      <td>1001.123284</td>\n",
       "      <td>992.391043</td>\n",
       "      <td>3.364602</td>\n",
       "      <td>155.180783</td>\n",
       "      <td>23.183946</td>\n",
       "      <td>15.248340</td>\n",
       "      <td>2.131824</td>\n",
       "      <td>15.578088</td>\n",
       "      <td>7905.000000</td>\n",
       "      <td>-7.935606</td>\n",
       "    </tr>\n",
       "    <tr>\n",
       "      <th>std</th>\n",
       "      <td>577.311837</td>\n",
       "      <td>578.731640</td>\n",
       "      <td>2.211553</td>\n",
       "      <td>87.337481</td>\n",
       "      <td>15.058164</td>\n",
       "      <td>14.493867</td>\n",
       "      <td>1.598315</td>\n",
       "      <td>3.219864</td>\n",
       "      <td>4563.809538</td>\n",
       "      <td>20.665519</td>\n",
       "    </tr>\n",
       "    <tr>\n",
       "      <th>min</th>\n",
       "      <td>0.000000</td>\n",
       "      <td>1.000000</td>\n",
       "      <td>1.000000</td>\n",
       "      <td>2.000000</td>\n",
       "      <td>4.000000</td>\n",
       "      <td>1.000000</td>\n",
       "      <td>0.000000</td>\n",
       "      <td>10.000000</td>\n",
       "      <td>1.000000</td>\n",
       "      <td>-58.000000</td>\n",
       "    </tr>\n",
       "    <tr>\n",
       "      <th>25%</th>\n",
       "      <td>502.000000</td>\n",
       "      <td>492.000000</td>\n",
       "      <td>1.000000</td>\n",
       "      <td>78.000000</td>\n",
       "      <td>10.000000</td>\n",
       "      <td>5.000000</td>\n",
       "      <td>1.000000</td>\n",
       "      <td>12.000000</td>\n",
       "      <td>3953.000000</td>\n",
       "      <td>-22.000000</td>\n",
       "    </tr>\n",
       "    <tr>\n",
       "      <th>50%</th>\n",
       "      <td>999.000000</td>\n",
       "      <td>989.000000</td>\n",
       "      <td>3.000000</td>\n",
       "      <td>160.000000</td>\n",
       "      <td>21.000000</td>\n",
       "      <td>10.000000</td>\n",
       "      <td>2.000000</td>\n",
       "      <td>16.000000</td>\n",
       "      <td>7905.000000</td>\n",
       "      <td>-7.000000</td>\n",
       "    </tr>\n",
       "    <tr>\n",
       "      <th>75%</th>\n",
       "      <td>1501.000000</td>\n",
       "      <td>1495.000000</td>\n",
       "      <td>4.000000</td>\n",
       "      <td>229.000000</td>\n",
       "      <td>36.000000</td>\n",
       "      <td>20.000000</td>\n",
       "      <td>3.000000</td>\n",
       "      <td>18.000000</td>\n",
       "      <td>11857.000000</td>\n",
       "      <td>3.000000</td>\n",
       "    </tr>\n",
       "    <tr>\n",
       "      <th>max</th>\n",
       "      <td>1997.000000</td>\n",
       "      <td>2000.000000</td>\n",
       "      <td>9.000000</td>\n",
       "      <td>300.000000</td>\n",
       "      <td>60.000000</td>\n",
       "      <td>60.000000</td>\n",
       "      <td>5.000000</td>\n",
       "      <td>21.000000</td>\n",
       "      <td>15809.000000</td>\n",
       "      <td>55.000000</td>\n",
       "    </tr>\n",
       "  </tbody>\n",
       "</table>\n",
       "</div>"
      ],
      "text/plain": [
       "         Unnamed: 0     _CASE_KEY       Variant   Customer_ID       Revenue  \\\n",
       "count  15809.000000  15809.000000  15809.000000  15809.000000  15809.000000   \n",
       "mean    1001.123284    992.391043      3.364602    155.180783     23.183946   \n",
       "std      577.311837    578.731640      2.211553     87.337481     15.058164   \n",
       "min        0.000000      1.000000      1.000000      2.000000      4.000000   \n",
       "25%      502.000000    492.000000      1.000000     78.000000     10.000000   \n",
       "50%      999.000000    989.000000      3.000000    160.000000     21.000000   \n",
       "75%     1501.000000   1495.000000      4.000000    229.000000     36.000000   \n",
       "max     1997.000000   2000.000000      9.000000    300.000000     60.000000   \n",
       "\n",
       "              Costs  Customer Satisfaction       Daytime       SORTING  \\\n",
       "count  15809.000000           15809.000000  15809.000000  15809.000000   \n",
       "mean      15.248340               2.131824     15.578088   7905.000000   \n",
       "std       14.493867               1.598315      3.219864   4563.809538   \n",
       "min        1.000000               0.000000     10.000000      1.000000   \n",
       "25%        5.000000               1.000000     12.000000   3953.000000   \n",
       "50%       10.000000               2.000000     16.000000   7905.000000   \n",
       "75%       20.000000               3.000000     18.000000  11857.000000   \n",
       "max       60.000000               5.000000     21.000000  15809.000000   \n",
       "\n",
       "             profit  \n",
       "count  15809.000000  \n",
       "mean      -7.935606  \n",
       "std       20.665519  \n",
       "min      -58.000000  \n",
       "25%      -22.000000  \n",
       "50%       -7.000000  \n",
       "75%        3.000000  \n",
       "max       55.000000  "
      ]
     },
     "execution_count": 19,
     "metadata": {},
     "output_type": "execute_result"
    }
   ],
   "source": [
    "df.describe()"
   ]
  },
  {
   "cell_type": "code",
   "execution_count": 20,
   "id": "defensive-award",
   "metadata": {},
   "outputs": [
    {
     "data": {
      "text/plain": [
       "<AxesSubplot:xlabel='Weekday', ylabel='profit'>"
      ]
     },
     "execution_count": 20,
     "metadata": {},
     "output_type": "execute_result"
    },
    {
     "data": {
      "image/png": "[encoded data removed]",
      "text/plain": [
       "<Figure size 432x288 with 1 Axes>"
      ]
     },
     "metadata": {
      "needs_background": "light"
     },
     "output_type": "display_data"
    }
   ],
   "source": [
    "import seaborn as sns\n",
    "sns.lineplot(data=df, x=\"Weekday\", y=\"profit\")"
   ]
  },
  {
   "cell_type": "code",
   "execution_count": 21,
   "id": "compound-lodge",
   "metadata": {},
   "outputs": [
    {
     "data": {
      "text/plain": [
       "<AxesSubplot:xlabel='Weekday', ylabel='Distribution Channel'>"
      ]
     },
     "execution_count": 21,
     "metadata": {},
     "output_type": "execute_result"
    },
    {
     "data": {
      "image/png": "[encoded data removed]",
      "text/plain": [
       "<Figure size 432x288 with 1 Axes>"
      ]
     },
     "metadata": {
      "needs_background": "light"
     },
     "output_type": "display_data"
    }
   ],
   "source": [
    "sns.lineplot(data=df, x=\"Weekday\", y=\"Distribution Channel\")"
   ]
  },
  {
   "cell_type": "code",
   "execution_count": 22,
   "id": "traditional-empty",
   "metadata": {},
   "outputs": [
    {
     "data": {
      "text/plain": [
       "<seaborn.axisgrid.PairGrid at 0x7fee7572eb50>"
      ]
     },
     "execution_count": 22,
     "metadata": {},
     "output_type": "execute_result"
    },
    {
     "data": {
      "image/png": "[encoded data removed]",
      "text/plain": [
       "<Figure size 521.625x360 with 6 Axes>"
      ]
     },
     "metadata": {
      "needs_background": "light"
     },
     "output_type": "display_data"
    }
   ],
   "source": [
    "dfr = df[['profit','Customer Satisfaction','Cost Factor']]\n",
    "sns.pairplot(dfr,hue=\"Cost Factor\")"
   ]
  },
  {
   "cell_type": "markdown",
   "id": "eligible-oasis",
   "metadata": {},
   "source": [
    "The above pairplot shows relation between profit vs customer\n",
    "satisfaction on differnt cost factors{}. This will help us to find\n",
    "the weakest link in our production chain. According to the\n",
    "plot, the best and highest performing cost factors are Chef2\n",
    "and Chef1."
   ]
  },
  {
   "cell_type": "code",
   "execution_count": 24,
   "id": "complicated-insert",
   "metadata": {},
   "outputs": [
    {
     "data": {
      "text/plain": [
       "<seaborn.axisgrid.FacetGrid at 0x7fee7348bf10>"
      ]
     },
     "execution_count": 24,
     "metadata": {},
     "output_type": "execute_result"
    },
    {
     "data": {
      "image/png": "[encoded data removed]",
      "text/plain": [
       "<Figure size 446.625x360 with 1 Axes>"
      ]
     },
     "metadata": {
      "needs_background": "light"
     },
     "output_type": "display_data"
    }
   ],
   "source": [
    "sns.catplot(x=\"Pizza Size\", y=\"Customer Satisfaction\", hue=\"Pizza Type\",kind=\"point\", data=df)"
   ]
  },
  {
   "cell_type": "markdown",
   "id": "variable-imagination",
   "metadata": {},
   "source": [
    "The above plot shows information the comparison between different category and type of pizzas that are liked by people."
   ]
  },
  {
   "cell_type": "code",
   "execution_count": 25,
   "id": "killing-indonesia",
   "metadata": {},
   "outputs": [
    {
     "data": {
      "text/plain": [
       "<seaborn.axisgrid.FacetGrid at 0x7fee71c67340>"
      ]
     },
     "execution_count": 25,
     "metadata": {},
     "output_type": "execute_result"
    },
    {
     "data": {
      "image/png": "[encoded data removed]",
      "text/plain": [
       "<Figure size 360x360 with 1 Axes>"
      ]
     },
     "metadata": {
      "needs_background": "light"
     },
     "output_type": "display_data"
    }
   ],
   "source": [
    "sns.catplot(x=\"Daytime\", y=\"Customer Satisfaction\", kind=\"bar\", data=df)"
   ]
  },
  {
   "cell_type": "markdown",
   "id": "naked-table",
   "metadata": {},
   "source": [
    "The above plot shows the working hours where higher level of\n",
    "concentration is required."
   ]
  },
  {
   "cell_type": "code",
   "execution_count": 26,
   "id": "superb-orleans",
   "metadata": {},
   "outputs": [
    {
     "data": {
      "text/plain": [
       "<seaborn.axisgrid.FacetGrid at 0x7fee734f2610>"
      ]
     },
     "execution_count": 26,
     "metadata": {},
     "output_type": "execute_result"
    },
    {
     "data": {
      "image/png": "[encoded data removed]",
      "text/plain": [
       "<Figure size 360x360 with 1 Axes>"
      ]
     },
     "metadata": {
      "needs_background": "light"
     },
     "output_type": "display_data"
    }
   ],
   "source": [
    "sns.catplot(x=\"Automation\", y=\"profit\", kind=\"bar\", data=df)"
   ]
  },
  {
   "cell_type": "markdown",
   "id": "elder-guitar",
   "metadata": {},
   "source": [
    "The above plot compares the 2 types of preperation mechanism\n",
    "available, ie automated or manual"
   ]
  },
  {
   "cell_type": "code",
   "execution_count": 28,
   "id": "liable-isaac",
   "metadata": {},
   "outputs": [
    {
     "data": {
      "text/plain": [
       "<seaborn.axisgrid.FacetGrid at 0x7fee7348bf70>"
      ]
     },
     "execution_count": 28,
     "metadata": {},
     "output_type": "execute_result"
    },
    {
     "data": {
      "image/png": "[encoded data removed]",
      "text/plain": [
       "<Figure size 446.625x360 with 1 Axes>"
      ]
     },
     "metadata": {
      "needs_background": "light"
     },
     "output_type": "display_data"
    }
   ],
   "source": [
    "sns.catplot(y=\"Daytime\", hue=\"Pizza Type\", kind=\"count\",\n",
    "palette=\"pastel\", edgecolor=\".6\",\n",
    "data=df)"
   ]
  },
  {
   "cell_type": "markdown",
   "id": "fancy-transition",
   "metadata": {},
   "source": [
    "The above plot helps us to make prior arrangements of particu-\n",
    "lar amount of bread for the different time slots, for example at\n",
    "18th hour Salami pizzas are ordered a lot"
   ]
  },
  {
   "cell_type": "code",
   "execution_count": 29,
   "id": "conservative-missouri",
   "metadata": {},
   "outputs": [
    {
     "data": {
      "text/plain": [
       "<seaborn.axisgrid.FacetGrid at 0x7fee757ac400>"
      ]
     },
     "execution_count": 29,
     "metadata": {},
     "output_type": "execute_result"
    },
    {
     "data": {
      "image/png": "[encoded data removed]",
      "text/plain": [
       "<Figure size 360x360 with 1 Axes>"
      ]
     },
     "metadata": {
      "needs_background": "light"
     },
     "output_type": "display_data"
    }
   ],
   "source": [
    "sns.catplot(x='Customer_Type', y='Revenue', kind=\"bar\", data=df)"
   ]
  },
  {
   "cell_type": "markdown",
   "id": "collect-number",
   "metadata": {},
   "source": [
    "The above plot shows how much revenue is generated by differnt\n",
    "customer type."
   ]
  },
  {
   "cell_type": "code",
   "execution_count": 30,
   "id": "prerequisite-album",
   "metadata": {},
   "outputs": [
    {
     "data": {
      "text/plain": [
       "<seaborn.axisgrid.FacetGrid at 0x7fee71b5a400>"
      ]
     },
     "execution_count": 30,
     "metadata": {},
     "output_type": "execute_result"
    },
    {
     "data": {
      "image/png": "[encoded data removed]",
      "text/plain": [
       "<Figure size 446.625x360 with 1 Axes>"
      ]
     },
     "metadata": {
      "needs_background": "light"
     },
     "output_type": "display_data"
    }
   ],
   "source": [
    "sns.catplot(x='Customer_Type', y='Revenue', kind=\"bar\",hue=\"Pizza Type\", data=df)"
   ]
  },
  {
   "cell_type": "markdown",
   "id": "published-business",
   "metadata": {},
   "source": [
    "Further analysis into Cusomer Type vs Revenuw plots"
   ]
  },
  {
   "cell_type": "code",
   "execution_count": 32,
   "id": "tough-phoenix",
   "metadata": {},
   "outputs": [
    {
     "data": {
      "text/plain": [
       "<seaborn.axisgrid.FacetGrid at 0x7fee7198fe20>"
      ]
     },
     "execution_count": 32,
     "metadata": {},
     "output_type": "execute_result"
    },
    {
     "data": {
      "image/png": "[encoded data removed]",
      "text/plain": [
       "<Figure size 1218x576 with 1 Axes>"
      ]
     },
     "metadata": {
      "needs_background": "light"
     },
     "output_type": "display_data"
    }
   ],
   "source": [
    "sns.catplot(x='Customer Location', y=\"Customer Satisfaction\",hue=\"Distribution Channel\", kind=\"bar\", data=df, height=8, aspect=15/8)"
   ]
  },
  {
   "cell_type": "code",
   "execution_count": 33,
   "id": "closed-shade",
   "metadata": {},
   "outputs": [
    {
     "data": {
      "image/png": "[encoded data removed]",
      "text/plain": [
       "<Figure size 432x288 with 2 Axes>"
      ]
     },
     "metadata": {
      "needs_background": "light"
     },
     "output_type": "display_data"
    }
   ],
   "source": [
    "import matplotlib.pyplot as plt\n",
    "sns.heatmap(df.corr(),annot=True,linewidth=.5,fmt='.1f')\n",
    "plt.show()"
   ]
  },
  {
   "cell_type": "code",
   "execution_count": 34,
   "id": "attractive-jacket",
   "metadata": {},
   "outputs": [
    {
     "name": "stdout",
     "output_type": "stream",
     "text": [
      "Requirement already satisfied: category_encoders in /usr/local/lib/python3.9/dist-packages (2.2.2)\n",
      "Requirement already satisfied: numpy>=1.14.0 in /usr/local/lib/python3.9/dist-packages (from category_encoders) (1.19.5)\n",
      "Requirement already satisfied: statsmodels>=0.9.0 in /usr/local/lib/python3.9/dist-packages (from category_encoders) (0.12.2)\n",
      "Requirement already satisfied: patsy>=0.5.1 in /usr/local/lib/python3.9/dist-packages (from category_encoders) (0.5.2)\n",
      "Requirement already satisfied: scipy>=1.0.0 in /usr/local/lib/python3.9/dist-packages (from category_encoders) (1.7.1)\n",
      "Requirement already satisfied: scikit-learn>=0.20.0 in /usr/local/lib/python3.9/dist-packages (from category_encoders) (0.24.2)\n",
      "Requirement already satisfied: pandas>=0.21.1 in /usr/local/lib/python3.9/dist-packages (from category_encoders) (1.3.2)\n",
      "Requirement already satisfied: pytz>=2017.3 in /usr/local/lib/python3.9/dist-packages (from pandas>=0.21.1->category_encoders) (2021.1)\n",
      "Requirement already satisfied: python-dateutil>=2.7.3 in /usr/local/lib/python3.9/dist-packages (from pandas>=0.21.1->category_encoders) (2.8.2)\n",
      "Requirement already satisfied: six in /usr/lib/python3/dist-packages (from patsy>=0.5.1->category_encoders) (1.15.0)\n",
      "Requirement already satisfied: joblib>=0.11 in /usr/local/lib/python3.9/dist-packages (from scikit-learn>=0.20.0->category_encoders) (1.0.1)\n",
      "Requirement already satisfied: threadpoolctl>=2.0.0 in /usr/local/lib/python3.9/dist-packages (from scikit-learn>=0.20.0->category_encoders) (2.2.0)\n",
      "Requirement already satisfied: catboost in /usr/local/lib/python3.9/dist-packages (1.0.0)\n",
      "Requirement already satisfied: six in /usr/lib/python3/dist-packages (from catboost) (1.15.0)\n",
      "Requirement already satisfied: matplotlib in /usr/local/lib/python3.9/dist-packages (from catboost) (3.4.3)\n",
      "Requirement already satisfied: graphviz in /usr/local/lib/python3.9/dist-packages (from catboost) (0.17)\n",
      "Requirement already satisfied: pandas>=0.24.0 in /usr/local/lib/python3.9/dist-packages (from catboost) (1.3.2)\n",
      "Requirement already satisfied: numpy>=1.16.0 in /usr/local/lib/python3.9/dist-packages (from catboost) (1.19.5)\n",
      "Requirement already satisfied: scipy in /usr/local/lib/python3.9/dist-packages (from catboost) (1.7.1)\n",
      "Requirement already satisfied: plotly in /usr/local/lib/python3.9/dist-packages (from catboost) (5.3.1)\n",
      "Requirement already satisfied: pytz>=2017.3 in /usr/local/lib/python3.9/dist-packages (from pandas>=0.24.0->catboost) (2021.1)\n",
      "Requirement already satisfied: python-dateutil>=2.7.3 in /usr/local/lib/python3.9/dist-packages (from pandas>=0.24.0->catboost) (2.8.2)\n",
      "Requirement already satisfied: pyparsing>=2.2.1 in /usr/lib/python3/dist-packages (from matplotlib->catboost) (2.4.7)\n",
      "Requirement already satisfied: cycler>=0.10 in /usr/local/lib/python3.9/dist-packages (from matplotlib->catboost) (0.10.0)\n",
      "Requirement already satisfied: pillow>=6.2.0 in /usr/lib/python3/dist-packages (from matplotlib->catboost) (8.1.2)\n",
      "Requirement already satisfied: kiwisolver>=1.0.1 in /usr/local/lib/python3.9/dist-packages (from matplotlib->catboost) (1.3.2)\n",
      "Requirement already satisfied: tenacity>=6.2.0 in /usr/local/lib/python3.9/dist-packages (from plotly->catboost) (8.0.1)\n"
     ]
    }
   ],
   "source": [
    "! pip install category_encoders\n",
    "! pip install catboost"
   ]
  },
  {
   "cell_type": "code",
   "execution_count": 35,
   "id": "seeing-treasury",
   "metadata": {},
   "outputs": [
    {
     "data": {
      "text/html": [
       "<div>\n",
       "<style scoped>\n",
       "    .dataframe tbody tr th:only-of-type {\n",
       "        vertical-align: middle;\n",
       "    }\n",
       "\n",
       "    .dataframe tbody tr th {\n",
       "        vertical-align: top;\n",
       "    }\n",
       "\n",
       "    .dataframe thead th {\n",
       "        text-align: right;\n",
       "    }\n",
       "</style>\n",
       "<table border=\"1\" class=\"dataframe\">\n",
       "  <thead>\n",
       "    <tr style=\"text-align: right;\">\n",
       "      <th></th>\n",
       "      <th>Unnamed: 0</th>\n",
       "      <th>_CASE_KEY</th>\n",
       "      <th>Variant</th>\n",
       "      <th>Customer_ID</th>\n",
       "      <th>Revenue</th>\n",
       "      <th>Costs</th>\n",
       "      <th>Customer Satisfaction</th>\n",
       "      <th>Daytime</th>\n",
       "      <th>SORTING</th>\n",
       "      <th>profit</th>\n",
       "    </tr>\n",
       "  </thead>\n",
       "  <tbody>\n",
       "    <tr>\n",
       "      <th>0</th>\n",
       "      <td>0</td>\n",
       "      <td>895</td>\n",
       "      <td>1</td>\n",
       "      <td>175</td>\n",
       "      <td>17</td>\n",
       "      <td>13</td>\n",
       "      <td>3</td>\n",
       "      <td>14</td>\n",
       "      <td>7169</td>\n",
       "      <td>-4</td>\n",
       "    </tr>\n",
       "    <tr>\n",
       "      <th>1</th>\n",
       "      <td>0</td>\n",
       "      <td>895</td>\n",
       "      <td>1</td>\n",
       "      <td>175</td>\n",
       "      <td>17</td>\n",
       "      <td>13</td>\n",
       "      <td>3</td>\n",
       "      <td>14</td>\n",
       "      <td>7170</td>\n",
       "      <td>-4</td>\n",
       "    </tr>\n",
       "    <tr>\n",
       "      <th>2</th>\n",
       "      <td>0</td>\n",
       "      <td>895</td>\n",
       "      <td>1</td>\n",
       "      <td>175</td>\n",
       "      <td>17</td>\n",
       "      <td>13</td>\n",
       "      <td>3</td>\n",
       "      <td>14</td>\n",
       "      <td>7171</td>\n",
       "      <td>-4</td>\n",
       "    </tr>\n",
       "    <tr>\n",
       "      <th>3</th>\n",
       "      <td>0</td>\n",
       "      <td>895</td>\n",
       "      <td>1</td>\n",
       "      <td>175</td>\n",
       "      <td>17</td>\n",
       "      <td>13</td>\n",
       "      <td>3</td>\n",
       "      <td>14</td>\n",
       "      <td>7172</td>\n",
       "      <td>-4</td>\n",
       "    </tr>\n",
       "    <tr>\n",
       "      <th>4</th>\n",
       "      <td>0</td>\n",
       "      <td>895</td>\n",
       "      <td>1</td>\n",
       "      <td>175</td>\n",
       "      <td>17</td>\n",
       "      <td>13</td>\n",
       "      <td>3</td>\n",
       "      <td>14</td>\n",
       "      <td>7173</td>\n",
       "      <td>-4</td>\n",
       "    </tr>\n",
       "    <tr>\n",
       "      <th>...</th>\n",
       "      <td>...</td>\n",
       "      <td>...</td>\n",
       "      <td>...</td>\n",
       "      <td>...</td>\n",
       "      <td>...</td>\n",
       "      <td>...</td>\n",
       "      <td>...</td>\n",
       "      <td>...</td>\n",
       "      <td>...</td>\n",
       "      <td>...</td>\n",
       "    </tr>\n",
       "    <tr>\n",
       "      <th>15804</th>\n",
       "      <td>1997</td>\n",
       "      <td>1978</td>\n",
       "      <td>4</td>\n",
       "      <td>256</td>\n",
       "      <td>13</td>\n",
       "      <td>37</td>\n",
       "      <td>2</td>\n",
       "      <td>13</td>\n",
       "      <td>15636</td>\n",
       "      <td>24</td>\n",
       "    </tr>\n",
       "    <tr>\n",
       "      <th>15805</th>\n",
       "      <td>1997</td>\n",
       "      <td>1978</td>\n",
       "      <td>4</td>\n",
       "      <td>256</td>\n",
       "      <td>13</td>\n",
       "      <td>37</td>\n",
       "      <td>2</td>\n",
       "      <td>13</td>\n",
       "      <td>15637</td>\n",
       "      <td>24</td>\n",
       "    </tr>\n",
       "    <tr>\n",
       "      <th>15806</th>\n",
       "      <td>1997</td>\n",
       "      <td>1978</td>\n",
       "      <td>4</td>\n",
       "      <td>256</td>\n",
       "      <td>13</td>\n",
       "      <td>37</td>\n",
       "      <td>2</td>\n",
       "      <td>13</td>\n",
       "      <td>15638</td>\n",
       "      <td>24</td>\n",
       "    </tr>\n",
       "    <tr>\n",
       "      <th>15807</th>\n",
       "      <td>1997</td>\n",
       "      <td>1978</td>\n",
       "      <td>4</td>\n",
       "      <td>256</td>\n",
       "      <td>13</td>\n",
       "      <td>37</td>\n",
       "      <td>2</td>\n",
       "      <td>13</td>\n",
       "      <td>15639</td>\n",
       "      <td>24</td>\n",
       "    </tr>\n",
       "    <tr>\n",
       "      <th>15808</th>\n",
       "      <td>1997</td>\n",
       "      <td>1978</td>\n",
       "      <td>4</td>\n",
       "      <td>256</td>\n",
       "      <td>13</td>\n",
       "      <td>37</td>\n",
       "      <td>2</td>\n",
       "      <td>13</td>\n",
       "      <td>15640</td>\n",
       "      <td>24</td>\n",
       "    </tr>\n",
       "  </tbody>\n",
       "</table>\n",
       "<p>15809 rows × 10 columns</p>\n",
       "</div>"
      ],
      "text/plain": [
       "       Unnamed: 0  _CASE_KEY  Variant  Customer_ID  Revenue  Costs  \\\n",
       "0               0        895        1          175       17     13   \n",
       "1               0        895        1          175       17     13   \n",
       "2               0        895        1          175       17     13   \n",
       "3               0        895        1          175       17     13   \n",
       "4               0        895        1          175       17     13   \n",
       "...           ...        ...      ...          ...      ...    ...   \n",
       "15804        1997       1978        4          256       13     37   \n",
       "15805        1997       1978        4          256       13     37   \n",
       "15806        1997       1978        4          256       13     37   \n",
       "15807        1997       1978        4          256       13     37   \n",
       "15808        1997       1978        4          256       13     37   \n",
       "\n",
       "       Customer Satisfaction  Daytime  SORTING  profit  \n",
       "0                          3       14     7169      -4  \n",
       "1                          3       14     7170      -4  \n",
       "2                          3       14     7171      -4  \n",
       "3                          3       14     7172      -4  \n",
       "4                          3       14     7173      -4  \n",
       "...                      ...      ...      ...     ...  \n",
       "15804                      2       13    15636      24  \n",
       "15805                      2       13    15637      24  \n",
       "15806                      2       13    15638      24  \n",
       "15807                      2       13    15639      24  \n",
       "15808                      2       13    15640      24  \n",
       "\n",
       "[15809 rows x 10 columns]"
      ]
     },
     "execution_count": 35,
     "metadata": {},
     "output_type": "execute_result"
    }
   ],
   "source": [
    "import numpy as np\n",
    "numeric_data = df.select_dtypes(include=[np.number])\n",
    "categorical_data = df.select_dtypes(exclude=[np.number])\n",
    "numeric_data"
   ]
  },
  {
   "cell_type": "code",
   "execution_count": 36,
   "id": "viral-score",
   "metadata": {},
   "outputs": [
    {
     "data": {
      "text/plain": [
       "Index(['Pizza Type', 'Pizza Size', 'Cost Factor', 'Weekday',\n",
       "       'Distribution Channel', 'Customer Location', 'Customer Type',\n",
       "       'Customer_Location', 'Customer_Type', 'EVENTTIME', 'ACTIVITY_EN',\n",
       "       'Automation'],\n",
       "      dtype='object')"
      ]
     },
     "execution_count": 36,
     "metadata": {},
     "output_type": "execute_result"
    }
   ],
   "source": [
    "categorical_data.columns"
   ]
  },
  {
   "cell_type": "code",
   "execution_count": 37,
   "id": "completed-ebony",
   "metadata": {},
   "outputs": [
    {
     "name": "stderr",
     "output_type": "stream",
     "text": [
      "<ipython-input-37-3ef406775ecf>:1: FutureWarning: In a future version of pandas all arguments of DataFrame.drop except for the argument 'labels' will be keyword-only\n",
      "  X= df.drop('profit',1)\n"
     ]
    }
   ],
   "source": [
    "X= df.drop('profit',1)\n",
    "Y = df['profit']"
   ]
  },
  {
   "cell_type": "code",
   "execution_count": 38,
   "id": "pending-spanish",
   "metadata": {},
   "outputs": [
    {
     "data": {
      "text/plain": [
       "Unnamed: 0               0\n",
       "_CASE_KEY                0\n",
       "Variant                  0\n",
       "Customer_ID              0\n",
       "Revenue                  0\n",
       "Costs                    0\n",
       "Pizza Type               0\n",
       "Pizza Size               0\n",
       "Customer Satisfaction    0\n",
       "Cost Factor              0\n",
       "Weekday                  0\n",
       "Daytime                  0\n",
       "Distribution Channel     0\n",
       "Customer Location        0\n",
       "Customer Type            0\n",
       "Customer_Location        0\n",
       "Customer_Type            0\n",
       "SORTING                  0\n",
       "EVENTTIME                0\n",
       "ACTIVITY_EN              0\n",
       "Automation               0\n",
       "dtype: int64"
      ]
     },
     "execution_count": 38,
     "metadata": {},
     "output_type": "execute_result"
    }
   ],
   "source": [
    "X.isnull().sum()"
   ]
  },
  {
   "cell_type": "code",
   "execution_count": 41,
   "id": "korean-document",
   "metadata": {},
   "outputs": [],
   "source": [
    "from sklearn import metrics\n",
    "from sklearn.metrics import mean_squared_error\n",
    "from sklearn import feature_selection\n",
    "from catboost import CatBoostRegressor\n",
    "from sklearn.model_selection import train_test_split\n",
    "from sklearn import preprocessing\n",
    "\n",
    "lbl = preprocessing.LabelEncoder()\n",
    "for col in categorical_data.columns:\n",
    "    df[col] = lbl.fit_transform(df[col].astype(str))"
   ]
  },
  {
   "cell_type": "code",
   "execution_count": 42,
   "id": "educated-velvet",
   "metadata": {},
   "outputs": [
    {
     "name": "stderr",
     "output_type": "stream",
     "text": [
      "<ipython-input-42-ef45274a5785>:1: FutureWarning: In a future version of pandas all arguments of DataFrame.drop except for the argument 'labels' will be keyword-only\n",
      "  X=df.drop('profit',1)\n",
      "<ipython-input-42-ef45274a5785>:2: FutureWarning: In a future version of pandas all arguments of DataFrame.drop except for the argument 'labels' will be keyword-only\n",
      "  X=df.drop('Revenue',1)\n",
      "<ipython-input-42-ef45274a5785>:3: FutureWarning: In a future version of pandas all arguments of DataFrame.drop except for the argument 'labels' will be keyword-only\n",
      "  X=df.drop('Costs',1)\n",
      "<ipython-input-42-ef45274a5785>:4: FutureWarning: In a future version of pandas all arguments of DataFrame.drop except for the argument 'labels' will be keyword-only\n",
      "  X=df.drop('_CASE_KEY',1)\n",
      "<ipython-input-42-ef45274a5785>:5: FutureWarning: In a future version of pandas all arguments of DataFrame.drop except for the argument 'labels' will be keyword-only\n",
      "  X=df.drop('Customer_ID',1)\n"
     ]
    }
   ],
   "source": [
    "X=df.drop('profit',1)\n",
    "X=df.drop('Revenue',1)\n",
    "X=df.drop('Costs',1)\n",
    "X=df.drop('_CASE_KEY',1)\n",
    "X=df.drop('Customer_ID',1)\n",
    "\n",
    "Y = df['profit']"
   ]
  },
  {
   "cell_type": "code",
   "execution_count": 43,
   "id": "celtic-infrastructure",
   "metadata": {},
   "outputs": [],
   "source": [
    "X_train, X_valid, y_train, y_valid = train_test_split(X, Y, test_size=0.10, random_state=23)"
   ]
  },
  {
   "cell_type": "code",
   "execution_count": 44,
   "id": "laden-shame",
   "metadata": {},
   "outputs": [
    {
     "name": "stderr",
     "output_type": "stream",
     "text": [
      "Warning: Overfitting detector is active, thus evaluation metric is calculated on every iteration. 'metric_period' is ignored for evaluation metric.\n"
     ]
    },
    {
     "name": "stdout",
     "output_type": "stream",
     "text": [
      "0:\tlearn: 20.2789406\ttest: 20.6386136\tbest: 20.6386136 (0)\ttotal: 148ms\tremaining: 1m 43s\n",
      "75:\tlearn: 5.3276773\ttest: 5.5504826\tbest: 5.5504826 (75)\ttotal: 4.5s\tremaining: 37s\n",
      "150:\tlearn: 1.4793471\ttest: 1.6204026\tbest: 1.6204026 (150)\ttotal: 8.69s\tremaining: 31.6s\n",
      "225:\tlearn: 0.5175720\ttest: 0.6264446\tbest: 0.6264446 (225)\ttotal: 13.3s\tremaining: 27.8s\n",
      "300:\tlearn: 0.2892921\ttest: 0.3902623\tbest: 0.3902623 (300)\ttotal: 17.6s\tremaining: 23.3s\n",
      "375:\tlearn: 0.2165508\ttest: 0.3173126\tbest: 0.3173126 (375)\ttotal: 21.9s\tremaining: 18.9s\n",
      "450:\tlearn: 0.1743597\ttest: 0.2764454\tbest: 0.2764454 (450)\ttotal: 26.2s\tremaining: 14.5s\n",
      "525:\tlearn: 0.1448407\ttest: 0.2495052\tbest: 0.2495052 (525)\ttotal: 30.5s\tremaining: 10.1s\n",
      "600:\tlearn: 0.1210686\ttest: 0.2292678\tbest: 0.2292678 (600)\ttotal: 34.8s\tremaining: 5.74s\n",
      "675:\tlearn: 0.1008462\ttest: 0.2124774\tbest: 0.2124774 (675)\ttotal: 39.1s\tremaining: 1.39s\n",
      "699:\tlearn: 0.0955599\ttest: 0.2086860\tbest: 0.2086860 (699)\ttotal: 40.5s\tremaining: 0us\n",
      "\n",
      "bestTest = 0.2086860062\n",
      "bestIteration = 699\n",
      "\n"
     ]
    },
    {
     "data": {
      "text/plain": [
       "<catboost.core.CatBoostRegressor at 0x7fee757c4040>"
      ]
     },
     "execution_count": 44,
     "metadata": {},
     "output_type": "execute_result"
    }
   ],
   "source": [
    "#modelstart= time.time()\n",
    "cb_model = CatBoostRegressor(iterations=700,\n",
    "learning_rate=0.02,\n",
    "depth=12,\n",
    "eval_metric='RMSE',\n",
    "random_seed = 23,\n",
    "bagging_temperature = 0.2,\n",
    "od_type='Iter',\n",
    "metric_period = 75,\n",
    "od_wait=100)\n",
    "\n",
    "cb_model.fit(X_train, y_train,\n",
    "eval_set=(X_valid,y_valid), use_best_model=True,\n",
    "verbose=True)"
   ]
  },
  {
   "cell_type": "code",
   "execution_count": 45,
   "id": "significant-moral",
   "metadata": {},
   "outputs": [],
   "source": [
    "feature_importance = cb_model.get_feature_importance()"
   ]
  },
  {
   "cell_type": "code",
   "execution_count": 46,
   "id": "exotic-gardening",
   "metadata": {},
   "outputs": [
    {
     "data": {
      "text/plain": [
       "<AxesSubplot:ylabel='feature_names'>"
      ]
     },
     "execution_count": 46,
     "metadata": {},
     "output_type": "execute_result"
    },
    {
     "data": {
      "image/png": "[encoded data removed]",
      "text/plain": [
       "<Figure size 432x288 with 1 Axes>"
      ]
     },
     "metadata": {
      "needs_background": "light"
     },
     "output_type": "display_data"
    }
   ],
   "source": [
    "data = pd.DataFrame({'feature_importance': cb_model.get_feature_importance(),\n",
    "'feature_names': X.columns}).sort_values(by=['feature_importance'],\n",
    "ascending=False)\n",
    "\n",
    "data[:20].sort_values(by=['feature_importance'], ascending=True).plot.barh(x='feature_names', y='feature_importance')"
   ]
  },
  {
   "cell_type": "code",
   "execution_count": null,
   "id": "endless-federal",
   "metadata": {},
   "outputs": [],
   "source": [
    "# Thats it EDA(mini) + feature_importance"
   ]
  }
 ],
 "metadata": {
  "kernelspec": {
   "display_name": "Python 3",
   "language": "python",
   "name": "python3"
  },
  "language_info": {
   "codemirror_mode": {
    "name": "ipython",
    "version": 3
   },
   "file_extension": ".py",
   "mimetype": "text/x-python",
   "name": "python",
   "nbconvert_exporter": "python",
   "pygments_lexer": "ipython3",
   "version": "3.9.2"
  }
 },
 "nbformat": 4,
 "nbformat_minor": 5
}
